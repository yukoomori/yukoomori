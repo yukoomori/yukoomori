{
 "cells": [
  {
   "cell_type": "code",
   "execution_count": null,
   "metadata": {},
   "outputs": [],
   "source": [
    "from nltk.tokenize import word_tokenize\n",
    "\n",
    "\n",
    "def clean(df):\n",
    "    # fill NaN\n",
    "    df = df.fillna(value = \"\")\n",
    "    \n",
    "    # tokenize\n",
    "    df_1 = df\n",
    "    for j in df_1.columns:\n",
    "        df_1[j] = df_1[j].apply(word_tokenize) \n",
    "        \n",
    "    # get rid of stopwords\n",
    "    df_2 = df_1\n",
    "    cache = set(stopwords.words('english'))\n",
    "    for k in df_2.columns:\n",
    "        df_2[k] = df_2[k].apply(lambda x: [word for word in x if word not in cache])\n",
    "        \n",
    "    # remove punctionations\n",
    "    df_3 = df_2\n",
    "    punc = {\",\", \".\", \"?\", \";\", \":\", \"'\", '\"', \"(\", \")\", \"[\", \"]\", \"{\", \"}\", \"|\", \"/\"}\n",
    "    for l in df_3:\n",
    "        df_3[l] = df_3[l].apply(lambda x: [word for word in x if word not in punc])\n",
    "    \n",
    "    return df # a clean one"
   ]
  }
 ],
 "metadata": {
  "kernelspec": {
   "display_name": "Python 3",
   "language": "python",
   "name": "python3"
  },
  "language_info": {
   "codemirror_mode": {
    "name": "ipython",
    "version": 3
   },
   "file_extension": ".py",
   "mimetype": "text/x-python",
   "name": "python",
   "nbconvert_exporter": "python",
   "pygments_lexer": "ipython3",
   "version": "3.8.5"
  }
 },
 "nbformat": 4,
 "nbformat_minor": 4
}
